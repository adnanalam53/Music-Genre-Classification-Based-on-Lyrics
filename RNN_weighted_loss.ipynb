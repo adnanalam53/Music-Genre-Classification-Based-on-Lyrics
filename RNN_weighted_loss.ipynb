{
  "nbformat": 4,
  "nbformat_minor": 0,
  "metadata": {
    "colab": {
      "name": "RNN_weighted_loss.ipynb",
      "version": "0.3.2",
      "provenance": [],
      "collapsed_sections": [],
      "toc_visible": true
    },
    "kernelspec": {
      "name": "python3",
      "display_name": "Python 3"
    },
    "accelerator": "GPU"
  },
  "cells": [
    {
      "metadata": {
        "id": "wIRlKwVK63YZ",
        "colab_type": "text"
      },
      "cell_type": "markdown",
      "source": [
        "## Import Modules"
      ]
    },
    {
      "metadata": {
        "id": "fFjGd1FTW5Dh",
        "colab_type": "code",
        "colab": {}
      },
      "cell_type": "code",
      "source": [
        "# !pip install graphviz\n",
        "# !pip install torchviz"
      ],
      "execution_count": 0,
      "outputs": []
    },
    {
      "metadata": {
        "id": "odLhsO4T60Ul",
        "colab_type": "code",
        "colab": {}
      },
      "cell_type": "code",
      "source": [
        "import random\n",
        "import time\n",
        "import pandas as pd\n",
        "import numpy as np\n",
        "\n",
        "from torchtext.data import Field\n",
        "from torchtext.data import TabularDataset\n",
        "from torchtext.data import BucketIterator, Iterator\n",
        "from torchtext import data\n",
        "from torchtext import datasets\n",
        "\n",
        "\n",
        "import torch\n",
        "import torch.nn as nn\n",
        "import torch.optim as optim\n",
        "\n",
        "# import torchviz as viz\n",
        "\n",
        "import nltk\n",
        "from nltk.corpus import stopwords\n",
        "\n",
        "import matplotlib.pyplot as plt"
      ],
      "execution_count": 0,
      "outputs": []
    },
    {
      "metadata": {
        "id": "GD06MBbSYbZ7",
        "colab_type": "code",
        "outputId": "0aa884d7-def5-45b4-a576-7fb6bf1aac08",
        "colab": {
          "base_uri": "https://localhost:8080/",
          "height": 68
        }
      },
      "cell_type": "code",
      "source": [
        "nltk.download('stopwords')"
      ],
      "execution_count": 3,
      "outputs": [
        {
          "output_type": "stream",
          "text": [
            "[nltk_data] Downloading package stopwords to /root/nltk_data...\n",
            "[nltk_data]   Package stopwords is already up-to-date!\n"
          ],
          "name": "stdout"
        },
        {
          "output_type": "execute_result",
          "data": {
            "text/plain": [
              "True"
            ]
          },
          "metadata": {
            "tags": []
          },
          "execution_count": 3
        }
      ]
    },
    {
      "metadata": {
        "id": "dt-TiL_N62Xm",
        "colab_type": "code",
        "colab": {}
      },
      "cell_type": "code",
      "source": [
        "SEED = 479\n",
        "\n",
        "torch.manual_seed(SEED)\n",
        "torch.backends.cudnn.deterministic = True\n",
        "\n",
        "random.seed(SEED)\n",
        "\n",
        "device = torch.device('cuda' if torch.cuda.is_available() else 'cpu')\n",
        "# !CUDA_LAUNCH_BLOCKING=0"
      ],
      "execution_count": 0,
      "outputs": []
    },
    {
      "metadata": {
        "id": "mKuHV-hFYIaj",
        "colab_type": "code",
        "colab": {}
      },
      "cell_type": "code",
      "source": [
        "STOPWORDS = set(stopwords.words('english'))"
      ],
      "execution_count": 0,
      "outputs": []
    },
    {
      "metadata": {
        "id": "QzpQ6dme6ut6",
        "colab_type": "text"
      },
      "cell_type": "markdown",
      "source": [
        "## Preparing Data"
      ]
    },
    {
      "metadata": {
        "id": "XKuMjidtkcru",
        "colab_type": "code",
        "outputId": "1ddf10d0-4db2-404f-e266-fc7af6f4e687",
        "colab": {
          "base_uri": "https://localhost:8080/",
          "height": 176
        }
      },
      "cell_type": "code",
      "source": [
        "# read in data\n",
        "path = '4_19_lyrics_with_tags.csv'\n",
        "ly = pd.read_csv(path, delimiter = \",\", dtype = {'lyrics':str})\n",
        "ly.head(3)"
      ],
      "execution_count": 6,
      "outputs": [
        {
          "output_type": "execute_result",
          "data": {
            "text/html": [
              "<div>\n",
              "<style scoped>\n",
              "    .dataframe tbody tr th:only-of-type {\n",
              "        vertical-align: middle;\n",
              "    }\n",
              "\n",
              "    .dataframe tbody tr th {\n",
              "        vertical-align: top;\n",
              "    }\n",
              "\n",
              "    .dataframe thead th {\n",
              "        text-align: right;\n",
              "    }\n",
              "</style>\n",
              "<table border=\"1\" class=\"dataframe\">\n",
              "  <thead>\n",
              "    <tr style=\"text-align: right;\">\n",
              "      <th></th>\n",
              "      <th>artist</th>\n",
              "      <th>title</th>\n",
              "      <th>language</th>\n",
              "      <th>lyrics</th>\n",
              "      <th>track_id</th>\n",
              "      <th>tags</th>\n",
              "      <th>category</th>\n",
              "    </tr>\n",
              "  </thead>\n",
              "  <tbody>\n",
              "    <tr>\n",
              "      <th>0</th>\n",
              "      <td>Lena Philipsson</td>\n",
              "      <td>006</td>\n",
              "      <td>1.0</td>\n",
              "      <td>I had come in the name of love\\nWith a mission...</td>\n",
              "      <td>TRMMMKI128F931D80D</td>\n",
              "      <td>pop</td>\n",
              "      <td>2</td>\n",
              "    </tr>\n",
              "    <tr>\n",
              "      <th>1</th>\n",
              "      <td>Shawn Colvin</td>\n",
              "      <td>The Heart Of Saturday</td>\n",
              "      <td>1.0</td>\n",
              "      <td>Well you gassed her up\\nBehind the wheel\\nWith...</td>\n",
              "      <td>TRQFODA128F93319C3</td>\n",
              "      <td>pop</td>\n",
              "      <td>2</td>\n",
              "    </tr>\n",
              "    <tr>\n",
              "      <th>2</th>\n",
              "      <td>Dying Fetus</td>\n",
              "      <td>Ethos of Coercion</td>\n",
              "      <td>1.0</td>\n",
              "      <td>Castigation of the offenders, no punishment ou...</td>\n",
              "      <td>TRLXQQL128F4291A8F</td>\n",
              "      <td>rock</td>\n",
              "      <td>1</td>\n",
              "    </tr>\n",
              "  </tbody>\n",
              "</table>\n",
              "</div>"
            ],
            "text/plain": [
              "            artist                   title  language  \\\n",
              "0  Lena Philipsson                     006       1.0   \n",
              "1     Shawn Colvin   The Heart Of Saturday       1.0   \n",
              "2      Dying Fetus       Ethos of Coercion       1.0   \n",
              "\n",
              "                                              lyrics            track_id  \\\n",
              "0  I had come in the name of love\\nWith a mission...  TRMMMKI128F931D80D   \n",
              "1  Well you gassed her up\\nBehind the wheel\\nWith...  TRQFODA128F93319C3   \n",
              "2  Castigation of the offenders, no punishment ou...  TRLXQQL128F4291A8F   \n",
              "\n",
              "   tags  category  \n",
              "0   pop         2  \n",
              "1   pop         2  \n",
              "2  rock         1  "
            ]
          },
          "metadata": {
            "tags": []
          },
          "execution_count": 6
        }
      ]
    },
    {
      "metadata": {
        "id": "xPa8shiPnFK2",
        "colab_type": "code",
        "colab": {}
      },
      "cell_type": "code",
      "source": [
        "# declare field\n",
        "\n",
        "TEXT = Field(sequential=True, tokenize='spacy', lower=True,\n",
        "             stop_words = STOPWORDS, include_lengths=True)\n",
        "\n",
        "LABEL = Field(sequential=False, use_vocab=True, is_target=True)"
      ],
      "execution_count": 0,
      "outputs": []
    },
    {
      "metadata": {
        "id": "vDE1w0zeo5Kl",
        "colab_type": "code",
        "colab": {}
      },
      "cell_type": "code",
      "source": [
        "# setup dataset\n",
        "\n",
        "trn_vld_tst_fields = [(\"artist\", None), (\"title\", None), (\"language\", None),\n",
        "                      (\"lyrics\", TEXT), (\"track_id\", None), (\"tags\", LABEL)]\n",
        "\n",
        "trn_vld_tst_dataset = TabularDataset(\n",
        "    path=\"4_19_lyrics_with_tags.csv\", format='csv',\n",
        "    skip_header=True, fields=trn_vld_tst_fields)"
      ],
      "execution_count": 0,
      "outputs": []
    },
    {
      "metadata": {
        "id": "O54HlwOFrjQi",
        "colab_type": "code",
        "outputId": "e8b19153-bb7c-467a-e9a0-44f2eb35bbea",
        "colab": {
          "base_uri": "https://localhost:8080/",
          "height": 68
        }
      },
      "cell_type": "code",
      "source": [
        "# split dataset into trn, tst, vld\n",
        "# with ratio: 6, 3, 1\n",
        "# use random.seed\n",
        "\n",
        "trn, vld, tst = trn_vld_tst_dataset.split(\n",
        "    split_ratio = [0.6, 0.3, 0.1],\n",
        "    random_state = random.seed(SEED))\n",
        "\n",
        "print('Number of training examples:', len(trn), sep = ' ')\n",
        "print('Number of validation examples:', len(vld), sep = ' ')\n",
        "print('Number of testing examples:', len(tst), sep = ' ')"
      ],
      "execution_count": 9,
      "outputs": [
        {
          "output_type": "stream",
          "text": [
            "Number of training examples: 46731\n",
            "Number of validation examples: 7788\n",
            "Number of testing examples: 23366\n"
          ],
          "name": "stdout"
        }
      ]
    },
    {
      "metadata": {
        "id": "hjgRRsFRqMqu",
        "colab_type": "code",
        "outputId": "e23300f4-8641-41dd-a993-6b019faaa95b",
        "colab": {
          "base_uri": "https://localhost:8080/",
          "height": 51
        }
      },
      "cell_type": "code",
      "source": [
        "# setup dictionary on train dataset\n",
        "MAX_VOCAB_SIZE = 25_000\n",
        "\n",
        "TEXT.build_vocab(trn, max_size = MAX_VOCAB_SIZE, \n",
        "                 vectors = \"glove.6B.100d\", \n",
        "                 unk_init = torch.Tensor.normal_)\n",
        "LABEL.build_vocab(trn)\n",
        "\n",
        "print(f\"Unique tokens in TEXT vocabulary: {len(TEXT.vocab)}\")\n",
        "print(f\"Unique tokens in LABEL vocabulary: {len(LABEL.vocab)}\")"
      ],
      "execution_count": 10,
      "outputs": [
        {
          "output_type": "stream",
          "text": [
            "Unique tokens in TEXT vocabulary: 25002\n",
            "Unique tokens in LABEL vocabulary: 7\n"
          ],
          "name": "stdout"
        }
      ]
    },
    {
      "metadata": {
        "id": "MxbUmUScGN_4",
        "colab_type": "code",
        "outputId": "49877aeb-44c4-4c4b-8bb7-feea876317e3",
        "colab": {
          "base_uri": "https://localhost:8080/",
          "height": 153
        }
      },
      "cell_type": "code",
      "source": [
        "LABEL.vocab.stoi"
      ],
      "execution_count": 11,
      "outputs": [
        {
          "output_type": "execute_result",
          "data": {
            "text/plain": [
              "defaultdict(<function torchtext.vocab._default_unk_index>,\n",
              "            {'<unk>': 0,\n",
              "             'alternative': 5,\n",
              "             'dance': 6,\n",
              "             'indie': 3,\n",
              "             'others': 4,\n",
              "             'pop': 2,\n",
              "             'rock': 1})"
            ]
          },
          "metadata": {
            "tags": []
          },
          "execution_count": 11
        }
      ]
    },
    {
      "metadata": {
        "id": "vNLxkWSgrM6p",
        "colab_type": "code",
        "outputId": "13b71004-d812-4665-f445-bf8bb61b9908",
        "colab": {
          "base_uri": "https://localhost:8080/",
          "height": 119
        }
      },
      "cell_type": "code",
      "source": [
        "LABEL.vocab.freqs"
      ],
      "execution_count": 12,
      "outputs": [
        {
          "output_type": "execute_result",
          "data": {
            "text/plain": [
              "Counter({'alternative': 1301,\n",
              "         'dance': 1017,\n",
              "         'indie': 1911,\n",
              "         'others': 1829,\n",
              "         'pop': 5885,\n",
              "         'rock': 34788})"
            ]
          },
          "metadata": {
            "tags": []
          },
          "execution_count": 12
        }
      ]
    },
    {
      "metadata": {
        "id": "E_VVry2c015Q",
        "colab_type": "code",
        "colab": {}
      },
      "cell_type": "code",
      "source": [
        "# create iterators\n",
        "BATCH_SIZE = 64\n",
        "\n",
        "trn_iter, vld_iter, tst_iter = BucketIterator.splits(\n",
        "    (trn, vld, tst), device = device,\n",
        "    batch_size = BATCH_SIZE,\n",
        "    sort_within_batch = True,\n",
        "    sort_key=lambda x: len(x.lyrics))"
      ],
      "execution_count": 0,
      "outputs": []
    },
    {
      "metadata": {
        "id": "-DOAMjco4Zf7",
        "colab_type": "text"
      },
      "cell_type": "markdown",
      "source": [
        "## Build the Model"
      ]
    },
    {
      "metadata": {
        "id": "jOPhIykq4bFX",
        "colab_type": "code",
        "colab": {}
      },
      "cell_type": "code",
      "source": [
        "class RNN(nn.Module):\n",
        "    def __init__(self, vocab_size, embedding_dim, hidden_dim, output_dim, n_layers, \n",
        "                 bidirectional, dropout, pad_idx):\n",
        "        \n",
        "        super().__init__()\n",
        "        \n",
        "        self.embedding = nn.Embedding(vocab_size, embedding_dim, padding_idx = pad_idx)\n",
        "        \n",
        "        self.rnn = nn.LSTM(embedding_dim, \n",
        "                           hidden_dim, \n",
        "                           num_layers=n_layers, \n",
        "                           bidirectional=bidirectional, \n",
        "                           dropout=dropout)\n",
        "        \n",
        "        self.fc = nn.Linear(hidden_dim * 2, output_dim)\n",
        "        \n",
        "        self.dropout = nn.Dropout(dropout)\n",
        "        \n",
        "    def forward(self, text, text_lengths):\n",
        "        \n",
        "        #text = [sent len, batch size]\n",
        "        \n",
        "        embedded = self.dropout(self.embedding(text))\n",
        "        \n",
        "        #embedded = [sent len, batch size, emb dim]\n",
        "        \n",
        "        #pack sequence\n",
        "        packed_embedded = nn.utils.rnn.pack_padded_sequence(embedded, text_lengths)\n",
        "        \n",
        "        packed_output, (hidden, cell) = self.rnn(packed_embedded)\n",
        "        \n",
        "        #unpack sequence\n",
        "        output, output_lengths = nn.utils.rnn.pad_packed_sequence(packed_output)\n",
        "\n",
        "        #output = [sent len, batch size, hid dim * num directions]\n",
        "        #output over padding tokens are zero tensors\n",
        "        \n",
        "        #hidden = [num layers * num directions, batch size, hid dim]\n",
        "        #cell = [num layers * num directions, batch size, hid dim]\n",
        "        \n",
        "        #concat the final forward (hidden[-2,:,:]) and backward (hidden[-1,:,:]) hidden layers\n",
        "        #and apply dropout\n",
        "        \n",
        "        hidden = self.dropout(torch.cat((hidden[-2,:,:], hidden[-1,:,:]), dim = 1))\n",
        "                \n",
        "        #hidden = [batch size, hid dim * num directions]\n",
        "            \n",
        "        return self.fc(hidden.squeeze(0))"
      ],
      "execution_count": 0,
      "outputs": []
    },
    {
      "metadata": {
        "id": "bx5dd1Zn7nVR",
        "colab_type": "text"
      },
      "cell_type": "markdown",
      "source": [
        "* input_dim = the dimension of the one-hot vectors = vocabulary size\n",
        "\n",
        "* embedding_dim = size of the dense word vectors = 50~250, depending on input_dim\n",
        "\n",
        "* hidden_dim = size of the hidden states = 100~500, depending on input_dim, embedding_dim, complexity of the task\n",
        "\n",
        "* output_dim = number of classes"
      ]
    },
    {
      "metadata": {
        "id": "F_0dVIGr7hPZ",
        "colab_type": "code",
        "colab": {}
      },
      "cell_type": "code",
      "source": [
        "INPUT_DIM = len(TEXT.vocab)\n",
        "EMBEDDING_DIM = 100\n",
        "HIDDEN_DIM = 128\n",
        "OUTPUT_DIM = 7\n",
        "N_LAYERS = 2\n",
        "BIDIRECTIONAL = True\n",
        "DROPOUT = 0.5\n",
        "PAD_IDX = TEXT.vocab.stoi[TEXT.pad_token]\n",
        "\n",
        "model = RNN(INPUT_DIM, \n",
        "            EMBEDDING_DIM, \n",
        "            HIDDEN_DIM, \n",
        "            OUTPUT_DIM, \n",
        "            N_LAYERS, \n",
        "            BIDIRECTIONAL, \n",
        "            DROPOUT, \n",
        "            PAD_IDX)"
      ],
      "execution_count": 0,
      "outputs": []
    },
    {
      "metadata": {
        "id": "Afb-gsbe88Uh",
        "colab_type": "code",
        "outputId": "395de59f-044b-412c-d338-002a6ef1c7d5",
        "colab": {
          "base_uri": "https://localhost:8080/",
          "height": 34
        }
      },
      "cell_type": "code",
      "source": [
        "def count_trnable_para(model):\n",
        "    return sum(p.numel() for p in model.parameters() if p.requires_grad)\n",
        "\n",
        "print(f'The model has {count_trnable_para(model):,} trainable parameters')"
      ],
      "execution_count": 89,
      "outputs": [
        {
          "output_type": "stream",
          "text": [
            "The model has 3,132,783 trainable parameters\n"
          ],
          "name": "stdout"
        }
      ]
    },
    {
      "metadata": {
        "id": "MdNqRs8y9Pt8",
        "colab_type": "code",
        "outputId": "9550ae11-25d9-40c7-a316-eb7f13ac528f",
        "colab": {
          "base_uri": "https://localhost:8080/",
          "height": 34
        }
      },
      "cell_type": "code",
      "source": [
        "pretrained_embeddings = TEXT.vocab.vectors\n",
        "\n",
        "print(pretrained_embeddings.shape)"
      ],
      "execution_count": 90,
      "outputs": [
        {
          "output_type": "stream",
          "text": [
            "torch.Size([25002, 100])\n"
          ],
          "name": "stdout"
        }
      ]
    },
    {
      "metadata": {
        "id": "LkNy6QEDjrcT",
        "colab_type": "code",
        "outputId": "7f9a53e3-0301-4ef4-e4a6-c4be5440bb79",
        "colab": {
          "base_uri": "https://localhost:8080/",
          "height": 136
        }
      },
      "cell_type": "code",
      "source": [
        "model.embedding.weight.data.copy_(pretrained_embeddings)"
      ],
      "execution_count": 91,
      "outputs": [
        {
          "output_type": "execute_result",
          "data": {
            "text/plain": [
              "tensor([[ 0.9096,  0.3123,  0.9969,  ..., -0.0807, -1.1631, -0.5760],\n",
              "        [-0.9990,  0.5651, -0.1949,  ..., -1.2643,  0.6189, -0.1765],\n",
              "        [-2.3781,  0.0426,  1.3485,  ...,  1.4875, -0.5941,  1.8406],\n",
              "        ...,\n",
              "        [ 0.0682, -0.4873, -0.2402,  ...,  0.3613, -0.1153, -0.0922],\n",
              "        [ 0.6267, -0.3694,  0.0572,  ..., -0.6375, -0.6051,  0.4741],\n",
              "        [ 0.0038, -1.3533, -0.0416,  ...,  0.1305,  0.6898,  0.6697]])"
            ]
          },
          "metadata": {
            "tags": []
          },
          "execution_count": 91
        }
      ]
    },
    {
      "metadata": {
        "id": "o2SWhBe3j5TL",
        "colab_type": "code",
        "outputId": "1c476123-ae2b-4339-96bb-3575e2f0edab",
        "colab": {
          "base_uri": "https://localhost:8080/",
          "height": 136
        }
      },
      "cell_type": "code",
      "source": [
        "UNK_IDX = TEXT.vocab.stoi[TEXT.unk_token]\n",
        "\n",
        "model.embedding.weight.data[UNK_IDX] = torch.zeros(EMBEDDING_DIM)\n",
        "model.embedding.weight.data[PAD_IDX] = torch.zeros(EMBEDDING_DIM)\n",
        "\n",
        "print(model.embedding.weight.data)"
      ],
      "execution_count": 92,
      "outputs": [
        {
          "output_type": "stream",
          "text": [
            "tensor([[ 0.0000,  0.0000,  0.0000,  ...,  0.0000,  0.0000,  0.0000],\n",
            "        [ 0.0000,  0.0000,  0.0000,  ...,  0.0000,  0.0000,  0.0000],\n",
            "        [-2.3781,  0.0426,  1.3485,  ...,  1.4875, -0.5941,  1.8406],\n",
            "        ...,\n",
            "        [ 0.0682, -0.4873, -0.2402,  ...,  0.3613, -0.1153, -0.0922],\n",
            "        [ 0.6267, -0.3694,  0.0572,  ..., -0.6375, -0.6051,  0.4741],\n",
            "        [ 0.0038, -1.3533, -0.0416,  ...,  0.1305,  0.6898,  0.6697]])\n"
          ],
          "name": "stdout"
        }
      ]
    },
    {
      "metadata": {
        "id": "bNymv25S9R9i",
        "colab_type": "text"
      },
      "cell_type": "markdown",
      "source": [
        "## Train the Model"
      ]
    },
    {
      "metadata": {
        "id": "Ud_5aQfSPXeP",
        "colab_type": "code",
        "colab": {}
      },
      "cell_type": "code",
      "source": [
        "def weighted_loss_byfreq(vocab):\n",
        "  '''get the weights of class labels in CrossEntropyLoss\n",
        "  weight.vec[0] is for class <unk> '''\n",
        "  weight_vec = torch.zeros(len(vocab.stoi))\n",
        "  freqs = torch.tensor( list( vocab.freqs.values() ) )\n",
        "  \n",
        "  weight_vec[1:] = freqs.max() / freqs\n",
        "  weight_vec[0] = weight_vec[1:].min()\n",
        "  \n",
        "  return(weight_vec)"
      ],
      "execution_count": 0,
      "outputs": []
    },
    {
      "metadata": {
        "id": "sW3XmB9v9TSV",
        "colab_type": "code",
        "colab": {}
      },
      "cell_type": "code",
      "source": [
        "# define optimizer\n",
        "optimizer = optim.Adam(model.parameters())\n",
        "\n",
        "# define loss function\n",
        "weight_by_class = weighted_loss_byfreq(LABEL.vocab)\n",
        "criterion = nn.CrossEntropyLoss(weight=weight_by_class)\n",
        "\n",
        "model = model.to(device)\n",
        "criterion = criterion.to(device)"
      ],
      "execution_count": 0,
      "outputs": []
    },
    {
      "metadata": {
        "id": "6m8SEMLt_7mv",
        "colab_type": "code",
        "colab": {}
      },
      "cell_type": "code",
      "source": [
        "def multiclass_accuracy(model_output, y):\n",
        "    model_preds = torch.sigmoid(model_output).max(1)[1]\n",
        "    correct = (model_preds == y).float()\n",
        "    acc = correct.sum() / len(correct)\n",
        "    return acc"
      ],
      "execution_count": 0,
      "outputs": []
    },
    {
      "metadata": {
        "id": "sZBBEUNyC472",
        "colab_type": "code",
        "colab": {}
      },
      "cell_type": "code",
      "source": [
        "# define train function\n",
        "  \n",
        "def train(model, iterator, optimizer, criterion):\n",
        "    \n",
        "    epoch_loss = 0\n",
        "    epoch_acc = 0\n",
        "    \n",
        "    # model.train(): put the model in \"training mode\"\n",
        "    # which turns on dropout and batch normalization.\n",
        "    model.train()\n",
        "    \n",
        "    for batch in iterator:\n",
        "        \n",
        "        # zero the gradients\n",
        "        # PyTorch does not automatically remove (zero) the gradients\n",
        "        # of the last gradient calculation\n",
        "        optimizer.zero_grad()\n",
        "        \n",
        "        text, text_lengths = batch.lyrics\n",
        "        \n",
        "        predictions = model(text, text_lengths).squeeze(1)\n",
        "        \n",
        "        loss = criterion(predictions, batch.tags)\n",
        "        \n",
        "        acc = multiclass_accuracy(predictions, batch.tags)\n",
        "        \n",
        "        # update model's parameters\n",
        "        loss.backward()\n",
        "        optimizer.step()\n",
        "        \n",
        "        epoch_loss += loss.item()\n",
        "        epoch_acc += acc.item()\n",
        "        \n",
        "    return epoch_loss / len(iterator), epoch_acc / len(iterator)"
      ],
      "execution_count": 0,
      "outputs": []
    },
    {
      "metadata": {
        "id": "ivPZBPlSEsiX",
        "colab_type": "code",
        "colab": {}
      },
      "cell_type": "code",
      "source": [
        "# define evaluate function\n",
        "# similar to train, but don't want update parameters\n",
        "  \n",
        "def evaluate(model, iterator, criterion):\n",
        "    \n",
        "    epoch_loss = 0\n",
        "    epoch_acc = 0\n",
        "    \n",
        "    # model.eval(): puts the model in \"evaluation mode\"\n",
        "    # which turns off dropout and batch normalization\n",
        "    model.eval()\n",
        "    \n",
        "    with torch.no_grad():\n",
        "    \n",
        "        for batch in iterator:\n",
        "\n",
        "            text, text_lengths = batch.lyrics\n",
        "            \n",
        "            predictions = model(text, text_lengths).squeeze(1)\n",
        "            \n",
        "            loss = criterion(predictions, batch.tags)\n",
        "            \n",
        "            acc = multiclass_accuracy(predictions, batch.tags)\n",
        "\n",
        "            epoch_loss += loss.item()\n",
        "            epoch_acc += acc.item()\n",
        "        \n",
        "    return epoch_loss / len(iterator), epoch_acc / len(iterator)"
      ],
      "execution_count": 0,
      "outputs": []
    },
    {
      "metadata": {
        "id": "prVt5ydiFSxB",
        "colab_type": "code",
        "colab": {}
      },
      "cell_type": "code",
      "source": [
        "# tell us how long an epoch takes\n",
        "# to compare training times between models.\n",
        "\n",
        "def epoch_time(start_time, end_time):\n",
        "    elapsed_time = end_time - start_time\n",
        "    elapsed_mins = int(elapsed_time / 60)\n",
        "    elapsed_secs = int(elapsed_time - (elapsed_mins * 60))\n",
        "    return elapsed_mins, elapsed_secs"
      ],
      "execution_count": 0,
      "outputs": []
    },
    {
      "metadata": {
        "id": "KpjNPWtvLhpD",
        "colab_type": "code",
        "colab": {}
      },
      "cell_type": "code",
      "source": [
        "def get_preds(model, iterator, data):\n",
        "  'data is the original of iterator'\n",
        "  \n",
        "  preds = torch.zeros(len(data))\n",
        "  pointer = 0\n",
        "  \n",
        "  model.eval()\n",
        "    \n",
        "  with torch.no_grad():\n",
        "    for batch in iterator:\n",
        "      text, text_lengths = batch.lyrics\n",
        "      model_output = model(text, text_lengths).squeeze(1)\n",
        "      model_preds = torch.sigmoid(model_output).max(1)[1]\n",
        "      preds[pointer:(pointer+len(batch))] = model_preds\n",
        "      pointer += len(batch)\n",
        "   \n",
        "  return(preds)"
      ],
      "execution_count": 0,
      "outputs": []
    },
    {
      "metadata": {
        "id": "aHwpmqInFlPX",
        "colab_type": "code",
        "outputId": "43082bc6-a2bd-4511-dc45-294d8f3b973b",
        "colab": {
          "base_uri": "https://localhost:8080/",
          "height": 3587
        }
      },
      "cell_type": "code",
      "source": [
        "N_EPOCHS = 70\n",
        "\n",
        "best_valid_loss = float('inf')\n",
        "\n",
        "best_valid_acc = 0.0\n",
        "\n",
        "epoch_train_loss = []\n",
        "epoch_train_acc = []\n",
        "epoch_vld_loss = []\n",
        "epoch_vld_acc = []\n",
        "\n",
        "for epoch in range(N_EPOCHS):\n",
        "\n",
        "    start_time = time.time()\n",
        "    \n",
        "    trn_loss, trn_acc = train(model, trn_iter, optimizer, criterion)\n",
        "    vld_loss, vld_acc = evaluate(model, vld_iter, criterion)\n",
        "    \n",
        "    epoch_train_loss.append(trn_loss)\n",
        "    epoch_train_acc.append(trn_acc)\n",
        "    epoch_vld_loss.append(vld_loss)\n",
        "    epoch_vld_acc.append(vld_acc)\n",
        "    \n",
        "    end_time = time.time()\n",
        "\n",
        "    epoch_mins, epoch_secs = epoch_time(start_time, end_time)\n",
        "    \n",
        "    if vld_acc > best_valid_acc:\n",
        "        best_valid_acc = vld_acc\n",
        "        torch.save(model.state_dict(), 'tut1-model.pt')\n",
        "    \n",
        "    print(f'Epoch: {epoch+1:02} | Epoch Time: {epoch_mins}m {epoch_secs}s')\n",
        "    print(f'\\tTrain Loss: {trn_loss:.3f} | Train Acc: {trn_acc*100:.2f}%')\n",
        "    print(f'\\t Val. Loss: {vld_loss:.3f} |  Val. Acc: {vld_acc*100:.2f}%')"
      ],
      "execution_count": 100,
      "outputs": [
        {
          "output_type": "stream",
          "text": [
            "Epoch: 01 | Epoch Time: 0m 43s\n",
            "\tTrain Loss: 1.758 | Train Acc: 4.94%\n",
            "\t Val. Loss: 1.719 |  Val. Acc: 4.13%\n",
            "Epoch: 02 | Epoch Time: 0m 42s\n",
            "\tTrain Loss: 1.714 | Train Acc: 5.57%\n",
            "\t Val. Loss: 1.713 |  Val. Acc: 4.55%\n",
            "Epoch: 03 | Epoch Time: 0m 42s\n",
            "\tTrain Loss: 1.664 | Train Acc: 8.07%\n",
            "\t Val. Loss: 1.689 |  Val. Acc: 6.86%\n",
            "Epoch: 04 | Epoch Time: 0m 42s\n",
            "\tTrain Loss: 1.604 | Train Acc: 10.43%\n",
            "\t Val. Loss: 1.697 |  Val. Acc: 6.49%\n",
            "Epoch: 05 | Epoch Time: 0m 42s\n",
            "\tTrain Loss: 1.528 | Train Acc: 13.64%\n",
            "\t Val. Loss: 1.809 |  Val. Acc: 6.66%\n",
            "Epoch: 06 | Epoch Time: 0m 42s\n",
            "\tTrain Loss: 1.439 | Train Acc: 19.48%\n",
            "\t Val. Loss: 1.786 |  Val. Acc: 9.83%\n",
            "Epoch: 07 | Epoch Time: 0m 42s\n",
            "\tTrain Loss: 1.352 | Train Acc: 22.75%\n",
            "\t Val. Loss: 1.854 |  Val. Acc: 18.58%\n",
            "Epoch: 08 | Epoch Time: 0m 42s\n",
            "\tTrain Loss: 1.275 | Train Acc: 28.55%\n",
            "\t Val. Loss: 1.915 |  Val. Acc: 31.01%\n",
            "Epoch: 09 | Epoch Time: 0m 42s\n",
            "\tTrain Loss: 1.179 | Train Acc: 31.51%\n",
            "\t Val. Loss: 2.026 |  Val. Acc: 24.20%\n",
            "Epoch: 10 | Epoch Time: 0m 42s\n",
            "\tTrain Loss: 1.109 | Train Acc: 34.21%\n",
            "\t Val. Loss: 2.182 |  Val. Acc: 27.29%\n",
            "Epoch: 11 | Epoch Time: 0m 42s\n",
            "\tTrain Loss: 1.035 | Train Acc: 37.67%\n",
            "\t Val. Loss: 2.374 |  Val. Acc: 24.14%\n",
            "Epoch: 12 | Epoch Time: 0m 42s\n",
            "\tTrain Loss: 0.964 | Train Acc: 40.98%\n",
            "\t Val. Loss: 2.534 |  Val. Acc: 24.28%\n",
            "Epoch: 13 | Epoch Time: 0m 42s\n",
            "\tTrain Loss: 0.924 | Train Acc: 42.34%\n",
            "\t Val. Loss: 2.622 |  Val. Acc: 27.60%\n",
            "Epoch: 14 | Epoch Time: 0m 42s\n",
            "\tTrain Loss: 0.864 | Train Acc: 44.58%\n",
            "\t Val. Loss: 2.736 |  Val. Acc: 28.81%\n",
            "Epoch: 15 | Epoch Time: 0m 42s\n",
            "\tTrain Loss: 0.827 | Train Acc: 46.85%\n",
            "\t Val. Loss: 3.040 |  Val. Acc: 32.70%\n",
            "Epoch: 16 | Epoch Time: 0m 42s\n",
            "\tTrain Loss: 0.770 | Train Acc: 49.64%\n",
            "\t Val. Loss: 2.887 |  Val. Acc: 29.85%\n",
            "Epoch: 17 | Epoch Time: 0m 42s\n",
            "\tTrain Loss: 0.737 | Train Acc: 50.30%\n",
            "\t Val. Loss: 3.219 |  Val. Acc: 32.95%\n",
            "Epoch: 18 | Epoch Time: 0m 42s\n",
            "\tTrain Loss: 0.701 | Train Acc: 52.63%\n",
            "\t Val. Loss: 3.404 |  Val. Acc: 36.20%\n",
            "Epoch: 19 | Epoch Time: 0m 42s\n",
            "\tTrain Loss: 0.666 | Train Acc: 54.16%\n",
            "\t Val. Loss: 3.495 |  Val. Acc: 33.44%\n",
            "Epoch: 20 | Epoch Time: 0m 42s\n",
            "\tTrain Loss: 0.637 | Train Acc: 55.25%\n",
            "\t Val. Loss: 3.600 |  Val. Acc: 37.23%\n",
            "Epoch: 21 | Epoch Time: 0m 42s\n",
            "\tTrain Loss: 0.614 | Train Acc: 56.82%\n",
            "\t Val. Loss: 3.610 |  Val. Acc: 40.09%\n",
            "Epoch: 22 | Epoch Time: 0m 42s\n",
            "\tTrain Loss: 0.582 | Train Acc: 58.58%\n",
            "\t Val. Loss: 3.657 |  Val. Acc: 37.35%\n",
            "Epoch: 23 | Epoch Time: 0m 42s\n",
            "\tTrain Loss: 0.544 | Train Acc: 59.54%\n",
            "\t Val. Loss: 4.157 |  Val. Acc: 41.67%\n",
            "Epoch: 24 | Epoch Time: 0m 42s\n",
            "\tTrain Loss: 0.529 | Train Acc: 61.18%\n",
            "\t Val. Loss: 4.196 |  Val. Acc: 40.46%\n",
            "Epoch: 25 | Epoch Time: 0m 42s\n",
            "\tTrain Loss: 0.519 | Train Acc: 61.66%\n",
            "\t Val. Loss: 4.413 |  Val. Acc: 42.58%\n",
            "Epoch: 26 | Epoch Time: 0m 42s\n",
            "\tTrain Loss: 0.488 | Train Acc: 63.44%\n",
            "\t Val. Loss: 4.318 |  Val. Acc: 39.31%\n",
            "Epoch: 27 | Epoch Time: 0m 42s\n",
            "\tTrain Loss: 0.471 | Train Acc: 63.76%\n",
            "\t Val. Loss: 4.527 |  Val. Acc: 39.40%\n",
            "Epoch: 28 | Epoch Time: 0m 42s\n",
            "\tTrain Loss: 0.449 | Train Acc: 65.34%\n",
            "\t Val. Loss: 4.729 |  Val. Acc: 43.71%\n",
            "Epoch: 29 | Epoch Time: 0m 42s\n",
            "\tTrain Loss: 0.428 | Train Acc: 66.09%\n",
            "\t Val. Loss: 4.705 |  Val. Acc: 41.30%\n",
            "Epoch: 30 | Epoch Time: 0m 43s\n",
            "\tTrain Loss: 0.414 | Train Acc: 66.88%\n",
            "\t Val. Loss: 4.694 |  Val. Acc: 43.75%\n",
            "Epoch: 31 | Epoch Time: 0m 42s\n",
            "\tTrain Loss: 0.411 | Train Acc: 67.10%\n",
            "\t Val. Loss: 4.734 |  Val. Acc: 41.49%\n",
            "Epoch: 32 | Epoch Time: 0m 42s\n",
            "\tTrain Loss: 0.386 | Train Acc: 68.22%\n",
            "\t Val. Loss: 4.890 |  Val. Acc: 43.48%\n",
            "Epoch: 33 | Epoch Time: 0m 42s\n",
            "\tTrain Loss: 0.368 | Train Acc: 70.06%\n",
            "\t Val. Loss: 5.238 |  Val. Acc: 44.29%\n",
            "Epoch: 34 | Epoch Time: 0m 42s\n",
            "\tTrain Loss: 0.377 | Train Acc: 69.33%\n",
            "\t Val. Loss: 5.208 |  Val. Acc: 44.84%\n",
            "Epoch: 35 | Epoch Time: 0m 42s\n",
            "\tTrain Loss: 0.357 | Train Acc: 70.11%\n",
            "\t Val. Loss: 5.348 |  Val. Acc: 46.37%\n",
            "Epoch: 36 | Epoch Time: 0m 42s\n",
            "\tTrain Loss: 0.345 | Train Acc: 70.89%\n",
            "\t Val. Loss: 5.392 |  Val. Acc: 47.57%\n",
            "Epoch: 37 | Epoch Time: 0m 42s\n",
            "\tTrain Loss: 0.328 | Train Acc: 72.19%\n",
            "\t Val. Loss: 5.841 |  Val. Acc: 50.79%\n",
            "Epoch: 38 | Epoch Time: 0m 42s\n",
            "\tTrain Loss: 0.325 | Train Acc: 72.33%\n",
            "\t Val. Loss: 5.669 |  Val. Acc: 48.08%\n",
            "Epoch: 39 | Epoch Time: 0m 42s\n",
            "\tTrain Loss: 0.321 | Train Acc: 72.76%\n",
            "\t Val. Loss: 5.819 |  Val. Acc: 47.67%\n",
            "Epoch: 40 | Epoch Time: 0m 42s\n",
            "\tTrain Loss: 0.310 | Train Acc: 72.92%\n",
            "\t Val. Loss: 5.657 |  Val. Acc: 46.43%\n",
            "Epoch: 41 | Epoch Time: 0m 42s\n",
            "\tTrain Loss: 0.303 | Train Acc: 74.31%\n",
            "\t Val. Loss: 5.764 |  Val. Acc: 45.83%\n",
            "Epoch: 42 | Epoch Time: 0m 42s\n",
            "\tTrain Loss: 0.297 | Train Acc: 74.24%\n",
            "\t Val. Loss: 6.043 |  Val. Acc: 48.38%\n",
            "Epoch: 43 | Epoch Time: 0m 42s\n",
            "\tTrain Loss: 0.294 | Train Acc: 75.20%\n",
            "\t Val. Loss: 6.298 |  Val. Acc: 50.54%\n",
            "Epoch: 44 | Epoch Time: 0m 42s\n",
            "\tTrain Loss: 0.280 | Train Acc: 75.57%\n",
            "\t Val. Loss: 6.082 |  Val. Acc: 51.02%\n",
            "Epoch: 45 | Epoch Time: 0m 42s\n",
            "\tTrain Loss: 0.272 | Train Acc: 75.98%\n",
            "\t Val. Loss: 6.164 |  Val. Acc: 49.74%\n",
            "Epoch: 46 | Epoch Time: 0m 42s\n",
            "\tTrain Loss: 0.261 | Train Acc: 76.53%\n",
            "\t Val. Loss: 6.181 |  Val. Acc: 47.24%\n",
            "Epoch: 47 | Epoch Time: 0m 42s\n",
            "\tTrain Loss: 0.265 | Train Acc: 76.48%\n",
            "\t Val. Loss: 6.754 |  Val. Acc: 53.34%\n",
            "Epoch: 48 | Epoch Time: 0m 42s\n",
            "\tTrain Loss: 0.252 | Train Acc: 77.95%\n",
            "\t Val. Loss: 6.430 |  Val. Acc: 50.09%\n",
            "Epoch: 49 | Epoch Time: 0m 42s\n",
            "\tTrain Loss: 0.245 | Train Acc: 77.96%\n",
            "\t Val. Loss: 6.770 |  Val. Acc: 52.25%\n",
            "Epoch: 50 | Epoch Time: 0m 42s\n",
            "\tTrain Loss: 0.246 | Train Acc: 78.05%\n",
            "\t Val. Loss: 6.360 |  Val. Acc: 50.35%\n",
            "Epoch: 51 | Epoch Time: 0m 42s\n",
            "\tTrain Loss: 0.249 | Train Acc: 78.20%\n",
            "\t Val. Loss: 6.658 |  Val. Acc: 51.36%\n",
            "Epoch: 52 | Epoch Time: 0m 42s\n",
            "\tTrain Loss: 0.247 | Train Acc: 78.49%\n",
            "\t Val. Loss: 6.460 |  Val. Acc: 49.80%\n",
            "Epoch: 53 | Epoch Time: 0m 42s\n",
            "\tTrain Loss: 0.237 | Train Acc: 79.29%\n",
            "\t Val. Loss: 7.100 |  Val. Acc: 50.92%\n",
            "Epoch: 54 | Epoch Time: 0m 42s\n",
            "\tTrain Loss: 0.229 | Train Acc: 79.92%\n",
            "\t Val. Loss: 6.876 |  Val. Acc: 54.49%\n",
            "Epoch: 55 | Epoch Time: 0m 42s\n",
            "\tTrain Loss: 0.225 | Train Acc: 79.81%\n",
            "\t Val. Loss: 7.164 |  Val. Acc: 50.72%\n",
            "Epoch: 56 | Epoch Time: 0m 42s\n",
            "\tTrain Loss: 0.216 | Train Acc: 80.54%\n",
            "\t Val. Loss: 7.373 |  Val. Acc: 51.28%\n",
            "Epoch: 57 | Epoch Time: 0m 42s\n",
            "\tTrain Loss: 0.228 | Train Acc: 80.52%\n",
            "\t Val. Loss: 7.163 |  Val. Acc: 51.46%\n",
            "Epoch: 58 | Epoch Time: 0m 42s\n",
            "\tTrain Loss: 0.216 | Train Acc: 81.17%\n",
            "\t Val. Loss: 7.475 |  Val. Acc: 54.84%\n",
            "Epoch: 59 | Epoch Time: 0m 42s\n",
            "\tTrain Loss: 0.204 | Train Acc: 81.19%\n",
            "\t Val. Loss: 6.941 |  Val. Acc: 49.52%\n",
            "Epoch: 60 | Epoch Time: 0m 42s\n",
            "\tTrain Loss: 0.218 | Train Acc: 80.72%\n",
            "\t Val. Loss: 7.282 |  Val. Acc: 53.52%\n",
            "Epoch: 61 | Epoch Time: 0m 42s\n",
            "\tTrain Loss: 0.194 | Train Acc: 82.15%\n",
            "\t Val. Loss: 7.504 |  Val. Acc: 55.08%\n",
            "Epoch: 62 | Epoch Time: 0m 42s\n",
            "\tTrain Loss: 0.200 | Train Acc: 82.11%\n",
            "\t Val. Loss: 7.506 |  Val. Acc: 55.66%\n",
            "Epoch: 63 | Epoch Time: 0m 42s\n",
            "\tTrain Loss: 0.207 | Train Acc: 82.06%\n",
            "\t Val. Loss: 7.571 |  Val. Acc: 52.49%\n",
            "Epoch: 64 | Epoch Time: 0m 42s\n",
            "\tTrain Loss: 0.189 | Train Acc: 82.85%\n",
            "\t Val. Loss: 7.713 |  Val. Acc: 54.06%\n",
            "Epoch: 65 | Epoch Time: 0m 42s\n",
            "\tTrain Loss: 0.200 | Train Acc: 82.76%\n",
            "\t Val. Loss: 7.566 |  Val. Acc: 53.14%\n",
            "Epoch: 66 | Epoch Time: 0m 42s\n",
            "\tTrain Loss: 0.195 | Train Acc: 82.87%\n",
            "\t Val. Loss: 7.448 |  Val. Acc: 54.51%\n",
            "Epoch: 67 | Epoch Time: 0m 42s\n",
            "\tTrain Loss: 0.189 | Train Acc: 83.08%\n",
            "\t Val. Loss: 7.799 |  Val. Acc: 53.37%\n",
            "Epoch: 68 | Epoch Time: 0m 42s\n",
            "\tTrain Loss: 0.186 | Train Acc: 83.54%\n",
            "\t Val. Loss: 8.020 |  Val. Acc: 55.98%\n",
            "Epoch: 69 | Epoch Time: 0m 42s\n",
            "\tTrain Loss: 0.179 | Train Acc: 84.02%\n",
            "\t Val. Loss: 8.121 |  Val. Acc: 54.91%\n",
            "Epoch: 70 | Epoch Time: 0m 42s\n",
            "\tTrain Loss: 0.179 | Train Acc: 84.08%\n",
            "\t Val. Loss: 7.989 |  Val. Acc: 54.87%\n"
          ],
          "name": "stdout"
        }
      ]
    },
    {
      "metadata": {
        "id": "yWvoe3XLb2xz",
        "colab_type": "code",
        "colab": {}
      },
      "cell_type": "code",
      "source": [
        "# model.load_state_dict(torch.load('tut1-model.pt'))\n",
        "\n",
        "# N_EPOCHS = 30\n",
        "\n",
        "# for epoch in range(N_EPOCHS):\n",
        "\n",
        "#     start_time = time.time()\n",
        "    \n",
        "#     trn_loss, trn_acc = train(model, trn_iter, optimizer, criterion)\n",
        "#     vld_loss, vld_acc = evaluate(model, vld_iter, criterion)\n",
        "    \n",
        "#     end_time = time.time()\n",
        "\n",
        "#     epoch_mins, epoch_secs = epoch_time(start_time, end_time)\n",
        "    \n",
        "#     if vld_loss < best_valid_loss:\n",
        "#         best_valid_loss = vld_loss\n",
        "#         torch.save(model.state_dict(), 'tut1-model.pt')\n",
        "    \n",
        "#     print(f'Epoch: {epoch+1:02} | Epoch Time: {epoch_mins}m {epoch_secs}s')\n",
        "#     print(f'\\tTrain Loss: {trn_loss:.3f} | Train Acc: {trn_acc*100:.2f}%')\n",
        "#     print(f'\\t Val. Loss: {vld_loss:.3f} |  Val. Acc: {vld_acc*100:.2f}%')"
      ],
      "execution_count": 0,
      "outputs": []
    },
    {
      "metadata": {
        "id": "HXWHEdykMXne",
        "colab_type": "code",
        "outputId": "ff4b7f0d-6477-4966-b45b-afb5b1a3549e",
        "colab": {
          "base_uri": "https://localhost:8080/",
          "height": 34
        }
      },
      "cell_type": "code",
      "source": [
        "# model.load_state_dict(torch.load('tut1-model.pt'))\n",
        "\n",
        "test_loss, test_acc = evaluate(model, tst_iter, criterion)\n",
        "\n",
        "print(f'Test Loss: {test_loss:.3f} | Test Acc: {test_acc*100:.2f}%')"
      ],
      "execution_count": 102,
      "outputs": [
        {
          "output_type": "stream",
          "text": [
            "Test Loss: 7.918 | Test Acc: 54.71%\n"
          ],
          "name": "stdout"
        }
      ]
    },
    {
      "metadata": {
        "id": "3tRdGG1v1_e3",
        "colab_type": "code",
        "colab": {
          "base_uri": "https://localhost:8080/",
          "height": 573
        },
        "outputId": "37d53fef-77a5-44a5-de7c-a39015d7825f"
      },
      "cell_type": "code",
      "source": [
        "plt.plot(range(len(epoch_train_loss)), epoch_train_loss)\n",
        "plt.plot(range(len(epoch_vld_loss)), epoch_vld_loss)\n",
        "plt.ylabel('Loss')\n",
        "plt.xlabel('Epoch')\n",
        "plt.title('Train & Valid Loss')\n",
        "plt.legend(['Train', 'Valid'])\n",
        "plt.show()\n",
        "\n",
        "\n",
        "\n",
        "plt.plot(range(len(epoch_train_acc)), epoch_train_acc)\n",
        "plt.plot(range(len(epoch_vld_acc)), epoch_vld_acc)\n",
        "plt.ylabel('Accuracy')\n",
        "plt.xlabel('Epoch')\n",
        "plt.title('Train & Valid Accuracy')\n",
        "plt.legend(['Train', 'Valid'])\n",
        "plt.show()"
      ],
      "execution_count": 103,
      "outputs": [
        {
          "output_type": "display_data",
          "data": {
            "image/png": "[encoded data removed]",
            "text/plain": [
              "<Figure size 432x288 with 1 Axes>"
            ]
          },
          "metadata": {
            "tags": []
          }
        },
        {
          "output_type": "display_data",
          "data": {
            "image/png": "[encoded data removed]",
            "text/plain": [
              "<Figure size 432x288 with 1 Axes>"
            ]
          },
          "metadata": {
            "tags": []
          }
        }
      ]
    },
    {
      "metadata": {
        "id": "be8SVkqTW-ir",
        "colab_type": "code",
        "colab": {}
      },
      "cell_type": "code",
      "source": [
        ""
      ],
      "execution_count": 0,
      "outputs": []
    },
    {
      "metadata": {
        "id": "ffKiSyXqW-Ur",
        "colab_type": "code",
        "colab": {}
      },
      "cell_type": "code",
      "source": [
        ""
      ],
      "execution_count": 0,
      "outputs": []
    },
    {
      "metadata": {
        "id": "PAVn7Zg5Vj2A",
        "colab_type": "code",
        "colab": {}
      },
      "cell_type": "code",
      "source": [
        "preds_trn = get_preds(model, tst_iter, tst)"
      ],
      "execution_count": 0,
      "outputs": []
    },
    {
      "metadata": {
        "id": "HO_2FrxxWxqM",
        "colab_type": "code",
        "outputId": "bb99ffb1-1290-4569-b4d6-1c4e92081435",
        "colab": {
          "base_uri": "https://localhost:8080/",
          "height": 85
        }
      },
      "cell_type": "code",
      "source": [
        "print(np.histogram(np.array(preds_trn)))\n",
        "preds_trn[:5]"
      ],
      "execution_count": 105,
      "outputs": [
        {
          "output_type": "stream",
          "text": [
            "(array([15038,     0,  4377,     0,  1066,     0,  1602,     0,   566,\n",
            "         717]), array([1. , 1.5, 2. , 2.5, 3. , 3.5, 4. , 4.5, 5. , 5.5, 6. ],\n",
            "      dtype=float32))\n"
          ],
          "name": "stdout"
        },
        {
          "output_type": "execute_result",
          "data": {
            "text/plain": [
              "tensor([4., 4., 4., 1., 3.])"
            ]
          },
          "metadata": {
            "tags": []
          },
          "execution_count": 105
        }
      ]
    },
    {
      "metadata": {
        "id": "jjKXv4fUjtC_",
        "colab_type": "code",
        "colab": {
          "base_uri": "https://localhost:8080/",
          "height": 312
        },
        "outputId": "4ae60c1b-91c9-4380-e072-dd8b6285fa88"
      },
      "cell_type": "code",
      "source": [
        "preds_trn_pd = pd.Series(preds_trn)\n",
        "preds_trn_pd.plot.hist(grid=True, bins=6, rwidth=5, color='#607c8e')\n",
        "\n",
        "plt.title('Prediction of BoW-MLP with Weighted Loss')\n",
        "plt.xlabel('Labels')\n",
        "plt.ylabel('Count')\n",
        "plt.grid(axis='y', alpha=1)\n",
        "\n",
        "label_num = range(1, 7)\n",
        "label_text = ['rock', 'pop', 'indie', 'others', 'alternative', 'dance']\n",
        "plt.xticks(label_num, label_text)\n",
        "\n",
        "plt.xlim(1, 6)"
      ],
      "execution_count": 106,
      "outputs": [
        {
          "output_type": "execute_result",
          "data": {
            "text/plain": [
              "(1, 6)"
            ]
          },
          "metadata": {
            "tags": []
          },
          "execution_count": 106
        },
        {
          "output_type": "display_data",
          "data": {
            "image/png": "[encoded data removed]",
            "text/plain": [
              "<Figure size 432x288 with 1 Axes>"
            ]
          },
          "metadata": {
            "tags": []
          }
        }
      ]
    },
    {
      "metadata": {
        "id": "Tn-gE0dnqQDf",
        "colab_type": "code",
        "colab": {}
      },
      "cell_type": "code",
      "source": [
        "import pickle\n",
        "\n",
        "with open(\"plot.txt\", \"wb\") as fp:   #Pickling\n",
        "  pickle.dump(epoch_train_loss, fp)\n",
        "  pickle.dump(epoch_train_acc, fp)\n",
        "  pickle.dump(epoch_vld_loss, fp)\n",
        "  pickle.dump(epoch_vld_acc, fp)\n",
        "\n"
      ],
      "execution_count": 0,
      "outputs": []
    },
    {
      "metadata": {
        "id": "BJmIhc0PEa34",
        "colab_type": "code",
        "colab": {}
      },
      "cell_type": "code",
      "source": [
        "with open(\"plot.txt\", \"rb\") as fp:   # Unpickling\n",
        "  b = pickle.load(fp)"
      ],
      "execution_count": 0,
      "outputs": []
    },
    {
      "metadata": {
        "id": "NZa6H0PEEpsf",
        "colab_type": "code",
        "colab": {
          "base_uri": "https://localhost:8080/",
          "height": 34
        },
        "outputId": "bdabf9d2-4651-40c1-8b80-a1571b5bd0c3"
      },
      "cell_type": "code",
      "source": [
        "len(b)"
      ],
      "execution_count": 111,
      "outputs": [
        {
          "output_type": "execute_result",
          "data": {
            "text/plain": [
              "70"
            ]
          },
          "metadata": {
            "tags": []
          },
          "execution_count": 111
        }
      ]
    },
    {
      "metadata": {
        "id": "xiG8SZeWEtf8",
        "colab_type": "code",
        "colab": {}
      },
      "cell_type": "code",
      "source": [
        "df_save = pd.DataFrame({'1': epoch_train_loss, '2': epoch_train_acc, '3': epoch_vld_loss, '4': epoch_vld_acc})"
      ],
      "execution_count": 0,
      "outputs": []
    },
    {
      "metadata": {
        "id": "vtGHxNJhFRrm",
        "colab_type": "code",
        "colab": {}
      },
      "cell_type": "code",
      "source": [
        "df_save.to_csv('Train_record.csv', index = False)"
      ],
      "execution_count": 0,
      "outputs": []
    },
    {
      "metadata": {
        "id": "nCHtrC29FivH",
        "colab_type": "code",
        "colab": {}
      },
      "cell_type": "code",
      "source": [
        ""
      ],
      "execution_count": 0,
      "outputs": []
    }
  ]
}